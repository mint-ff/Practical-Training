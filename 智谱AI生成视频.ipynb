{
 "cells": [
  {
   "cell_type": "code",
   "execution_count": 4,
   "id": "e8c9fdcd-87e6-4dd6-9804-2c3158c12ad9",
   "metadata": {},
   "outputs": [
    {
     "name": "stdout",
     "output_type": "stream",
     "text": [
      "Looking in indexes: https://pypi.tuna.tsinghua.edu.cn/simple\n",
      "Requirement already satisfied: zhipuai in c:\\users\\86159\\anaconda3\\lib\\site-packages (2.1.5.20230904)\n",
      "Requirement already satisfied: cachetools>=4.2.2 in c:\\users\\86159\\anaconda3\\lib\\site-packages (from zhipuai) (4.2.2)\n",
      "Requirement already satisfied: httpx>=0.23.0 in c:\\users\\86159\\anaconda3\\lib\\site-packages (from zhipuai) (0.27.0)\n",
      "Requirement already satisfied: pydantic<3.0,>=1.9.0 in c:\\users\\86159\\anaconda3\\lib\\site-packages (from zhipuai) (1.10.12)\n",
      "Requirement already satisfied: pydantic-core>=2.14.6 in c:\\users\\86159\\anaconda3\\lib\\site-packages (from zhipuai) (2.27.0)\n",
      "Requirement already satisfied: pyjwt<2.9.0,>=2.8.0 in c:\\users\\86159\\anaconda3\\lib\\site-packages (from zhipuai) (2.8.0)\n",
      "Requirement already satisfied: anyio in c:\\users\\86159\\anaconda3\\lib\\site-packages (from httpx>=0.23.0->zhipuai) (4.2.0)\n",
      "Requirement already satisfied: certifi in c:\\users\\86159\\anaconda3\\lib\\site-packages (from httpx>=0.23.0->zhipuai) (2024.8.30)\n",
      "Requirement already satisfied: httpcore==1.* in c:\\users\\86159\\anaconda3\\lib\\site-packages (from httpx>=0.23.0->zhipuai) (1.0.2)\n",
      "Requirement already satisfied: idna in c:\\users\\86159\\anaconda3\\lib\\site-packages (from httpx>=0.23.0->zhipuai) (3.4)\n",
      "Requirement already satisfied: sniffio in c:\\users\\86159\\anaconda3\\lib\\site-packages (from httpx>=0.23.0->zhipuai) (1.3.0)\n",
      "Requirement already satisfied: h11<0.15,>=0.13 in c:\\users\\86159\\anaconda3\\lib\\site-packages (from httpcore==1.*->httpx>=0.23.0->zhipuai) (0.14.0)\n",
      "Requirement already satisfied: typing-extensions>=4.2.0 in c:\\users\\86159\\anaconda3\\lib\\site-packages (from pydantic<3.0,>=1.9.0->zhipuai) (4.9.0)\n",
      "Note: you may need to restart the kernel to use updated packages.\n"
     ]
    }
   ],
   "source": [
    "pip install zhipuai"
   ]
  },
  {
   "cell_type": "code",
   "execution_count": 77,
   "id": "50a5be99-5d3c-4ce4-9cb6-0b33cc7fb2c8",
   "metadata": {},
   "outputs": [
    {
     "name": "stdout",
     "output_type": "stream",
     "text": [
      "VideoObject(id='153317320708176329216576746246566342', model='cogvideox', video_result=None, task_status='PROCESSING', request_id='9216576746246566341')\n"
     ]
    }
   ],
   "source": [
    "from zhipuai import ZhipuAI\n",
    "client = ZhipuAI(api_key=\"f5cecb45febdc1d674fcacfea5b0706a.IccR386a6xD1Ri1h\")\n",
    "\n",
    "response=client.videos.generations(\n",
    "   model=\"cogvideox\",\n",
    "   prompt=\"制作一段视频，一只拟人化的狐狸角色，形象优雅帅气，穿着休闲衬衫和领带，站在一个充满活力的繁华城市背景中，类似《疯狂动物城》的氛围。狐狸脸上带着狡黠的微笑，展现出一种调皮又充满魅力的神态，周围有其他拟人化的动物角色，背景细节丰富，灯光效果鲜明，色彩明亮。。\"\n",
    ")\n",
    "print(response)"
   ]
  },
  {
   "cell_type": "code",
   "execution_count": 79,
   "id": "7808d7b0-a200-4b94-b26b-96da4a40502c",
   "metadata": {},
   "outputs": [
    {
     "name": "stdout",
     "output_type": "stream",
     "text": [
      "VideoObject(id='153317320708176329216576746246566342', model='cogvideox', video_result=None, task_status='PROCESSING', request_id='9216576746246566341')\n"
     ]
    }
   ],
   "source": [
    "from zhipuai import ZhipuAI\n",
    "client = ZhipuAI(api_key=\"f5cecb45febdc1d674fcacfea5b0706a.IccR386a6xD1Ri1h\")\n",
    "\n",
    "response = client.videos.retrieve_videos_result(\n",
    "    id=\"153317320708176329216576746246566342\"\n",
    ")\n",
    "print(response)"
   ]
  },
  {
   "cell_type": "code",
   "execution_count": 81,
   "id": "f589d8ec-bbe6-41ad-b4f7-2fe0a9a3e601",
   "metadata": {},
   "outputs": [
    {
     "name": "stdout",
     "output_type": "stream",
     "text": [
      "VideoObject(id='153317320708176329216575990331486314', model='cogvideox', video_result=None, task_status='PROCESSING', request_id='9216575990331486313')\n"
     ]
    }
   ],
   "source": [
    "from zhipuai import ZhipuAI\n",
    "client = ZhipuAI(api_key=\"f5cecb45febdc1d674fcacfea5b0706a.IccR386a6xD1Ri1h\")\n",
    "response=client.videos.generations(\n",
    "   model=\"cogvideox\",\n",
    "   image_url=\"R.jpg\",\n",
    "   prompt=\"制作一段视频，让图片中的狐狸单眨眼说出：你也被我迷倒了吧！\"\n",
    ")\n",
    "print(response)"
   ]
  },
  {
   "cell_type": "code",
   "execution_count": 3,
   "id": "5bdcebe2-49b5-449e-8fca-166cde77244f",
   "metadata": {},
   "outputs": [
    {
     "name": "stdout",
     "output_type": "stream",
     "text": [
      "视频生成请求响应： VideoObject(id='153317320708176329216580354020037254', model='cogvideox', video_result=None, task_status='PROCESSING', request_id='9216580354020037253')\n",
      "任务已提交，任务 ID: 153317320708176329216580354020037254\n",
      "等待视频生成完成...\n",
      "任务状态查询响应： VideoObject(id='153317320708176329216580354020037254', model='cogvideox', video_result=None, task_status='PROCESSING', request_id='9216580354020037253')\n",
      "检索视频生成结果失败: 'VideoObject' object has no attribute 'get'\n",
      "任务状态查询响应： VideoObject(id=None, model='cogvideox', video_result=None, task_status='FAIL', request_id='9216580354020037253')\n",
      "检索视频生成结果失败: 'VideoObject' object has no attribute 'get'\n",
      "任务状态查询响应： VideoObject(id=None, model='cogvideox', video_result=None, task_status='FAIL', request_id='9216580354020037253')\n",
      "检索视频生成结果失败: 'VideoObject' object has no attribute 'get'\n",
      "任务状态查询响应： VideoObject(id=None, model='cogvideox', video_result=None, task_status='FAIL', request_id='9216580354020037253')\n",
      "检索视频生成结果失败: 'VideoObject' object has no attribute 'get'\n",
      "任务状态查询响应： VideoObject(id=None, model='cogvideox', video_result=None, task_status='FAIL', request_id='9216580354020037253')\n",
      "检索视频生成结果失败: 'VideoObject' object has no attribute 'get'\n",
      "任务状态查询响应： VideoObject(id=None, model='cogvideox', video_result=None, task_status='FAIL', request_id='9216580354020037253')\n",
      "检索视频生成结果失败: 'VideoObject' object has no attribute 'get'\n",
      "任务状态查询响应： VideoObject(id=None, model='cogvideox', video_result=None, task_status='FAIL', request_id='9216580354020037253')\n",
      "检索视频生成结果失败: 'VideoObject' object has no attribute 'get'\n",
      "任务状态查询响应： VideoObject(id=None, model='cogvideox', video_result=None, task_status='FAIL', request_id='9216580354020037253')\n",
      "检索视频生成结果失败: 'VideoObject' object has no attribute 'get'\n",
      "任务状态查询响应： VideoObject(id=None, model='cogvideox', video_result=None, task_status='FAIL', request_id='9216580354020037253')\n",
      "检索视频生成结果失败: 'VideoObject' object has no attribute 'get'\n",
      "任务状态查询响应： VideoObject(id=None, model='cogvideox', video_result=None, task_status='FAIL', request_id='9216580354020037253')\n",
      "检索视频生成结果失败: 'VideoObject' object has no attribute 'get'\n",
      "任务状态查询响应： VideoObject(id=None, model='cogvideox', video_result=None, task_status='FAIL', request_id='9216580354020037253')\n",
      "检索视频生成结果失败: 'VideoObject' object has no attribute 'get'\n",
      "任务状态查询响应： VideoObject(id=None, model='cogvideox', video_result=None, task_status='FAIL', request_id='9216580354020037253')\n",
      "检索视频生成结果失败: 'VideoObject' object has no attribute 'get'\n"
     ]
    },
    {
     "ename": "KeyboardInterrupt",
     "evalue": "",
     "output_type": "error",
     "traceback": [
      "\u001b[1;31m---------------------------------------------------------------------------\u001b[0m",
      "\u001b[1;31mAttributeError\u001b[0m                            Traceback (most recent call last)",
      "Cell \u001b[1;32mIn[3], line 38\u001b[0m\n\u001b[0;32m     37\u001b[0m \u001b[38;5;66;03m# 提取任务状态\u001b[39;00m\n\u001b[1;32m---> 38\u001b[0m status \u001b[38;5;241m=\u001b[39m \u001b[38;5;28mgetattr\u001b[39m(result_response, \u001b[38;5;124m'\u001b[39m\u001b[38;5;124mstatus\u001b[39m\u001b[38;5;124m'\u001b[39m, \u001b[38;5;28;01mNone\u001b[39;00m) \u001b[38;5;129;01mor\u001b[39;00m result_response\u001b[38;5;241m.\u001b[39mget(\u001b[38;5;124m'\u001b[39m\u001b[38;5;124mstatus\u001b[39m\u001b[38;5;124m'\u001b[39m, \u001b[38;5;28;01mNone\u001b[39;00m)\n\u001b[0;32m     39\u001b[0m \u001b[38;5;28;01mif\u001b[39;00m \u001b[38;5;129;01mnot\u001b[39;00m status:\n",
      "\u001b[1;31mAttributeError\u001b[0m: 'VideoObject' object has no attribute 'get'",
      "\nDuring handling of the above exception, another exception occurred:\n",
      "\u001b[1;31mKeyboardInterrupt\u001b[0m                         Traceback (most recent call last)",
      "Cell \u001b[1;32mIn[3], line 54\u001b[0m\n\u001b[0;32m     52\u001b[0m \u001b[38;5;28;01mexcept\u001b[39;00m \u001b[38;5;167;01mException\u001b[39;00m \u001b[38;5;28;01mas\u001b[39;00m e:\n\u001b[0;32m     53\u001b[0m     \u001b[38;5;28mprint\u001b[39m(\u001b[38;5;124mf\u001b[39m\u001b[38;5;124m\"\u001b[39m\u001b[38;5;124m检索视频生成结果失败: \u001b[39m\u001b[38;5;132;01m{\u001b[39;00me\u001b[38;5;132;01m}\u001b[39;00m\u001b[38;5;124m\"\u001b[39m)\n\u001b[1;32m---> 54\u001b[0m     time\u001b[38;5;241m.\u001b[39msleep(\u001b[38;5;241m5\u001b[39m)\n",
      "\u001b[1;31mKeyboardInterrupt\u001b[0m: "
     ]
    }
   ],
   "source": [
    "import time\n",
    "from zhipuai import ZhipuAI\n",
    "\n",
    "# 初始化客户端\n",
    "client = ZhipuAI(api_key=\"f5cecb45febdc1d674fcacfea5b0706a.IccR386a6xD1Ri1h\")\n",
    "\n",
    "try:\n",
    "    # 发起视频生成请求\n",
    "    response = client.videos.generations(\n",
    "        model=\"cogvideox\",\n",
    "        image_url=\"R.jpg\",  # 确保 R.jpg 文件存在且路径正确\n",
    "        prompt=\"制作一段视频，让图片中的狐狸单眨眼说出：你也被我迷倒了吧！\"\n",
    "    )\n",
    "    # 打印返回值，检查结构\n",
    "    print(\"视频生成请求响应：\", response)\n",
    "    \n",
    "    # 提取任务 ID\n",
    "    # 确保 response 是字典或对象，正确访问字段\n",
    "    generated_id = getattr(response, 'id', None) or response.get('id', None)\n",
    "    if not generated_id:\n",
    "        raise ValueError(\"无法从响应中提取任务 ID。响应内容可能有误。\")\n",
    "    print(f\"任务已提交，任务 ID: {generated_id}\")\n",
    "except Exception as e:\n",
    "    print(f\"视频生成请求失败: {e}\")\n",
    "    exit()\n",
    "\n",
    "# 等待任务完成并检索结果\n",
    "print(\"等待视频生成完成...\")\n",
    "while True:\n",
    "    try:\n",
    "        # 检索视频生成结果\n",
    "        result_response = client.videos.retrieve_videos_result(id=generated_id)\n",
    "        \n",
    "        # 打印返回结果，检查状态字段\n",
    "        print(\"任务状态查询响应：\", result_response)\n",
    "\n",
    "        # 提取任务状态\n",
    "        status = getattr(result_response, 'status', None) or result_response.get('status', None)\n",
    "        if not status:\n",
    "            raise ValueError(\"无法从响应中提取任务状态。响应内容可能有误。\")\n",
    "        \n",
    "        if status == \"completed\":\n",
    "            print(\"视频生成完成！\")\n",
    "            print(\"生成结果: \", result_response)\n",
    "            break\n",
    "        elif status == \"failed\":\n",
    "            print(\"视频生成失败: \", result_response)\n",
    "            break\n",
    "        else:\n",
    "            print(\"任务仍在进行中，请稍候...\")\n",
    "            time.sleep(5)\n",
    "    except Exception as e:\n",
    "        print(f\"检索视频生成结果失败: {e}\")\n",
    "        time.sleep(5)\n"
   ]
  },
  {
   "cell_type": "code",
   "execution_count": null,
   "id": "d8e06987-212d-4f95-8767-f75bac89b48e",
   "metadata": {},
   "outputs": [],
   "source": []
  },
  {
   "cell_type": "code",
   "execution_count": null,
   "id": "8e1f82fa-d88f-4dbf-a086-bc8e98632aef",
   "metadata": {},
   "outputs": [],
   "source": []
  }
 ],
 "metadata": {
  "kernelspec": {
   "display_name": "Python 3 (ipykernel)",
   "language": "python",
   "name": "python3"
  },
  "language_info": {
   "codemirror_mode": {
    "name": "ipython",
    "version": 3
   },
   "file_extension": ".py",
   "mimetype": "text/x-python",
   "name": "python",
   "nbconvert_exporter": "python",
   "pygments_lexer": "ipython3",
   "version": "3.11.7"
  }
 },
 "nbformat": 4,
 "nbformat_minor": 5
}
