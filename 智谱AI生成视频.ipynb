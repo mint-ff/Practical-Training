{
 "cells": [
  {
   "cell_type": "code",
   "execution_count": 4,
   "id": "e8c9fdcd-87e6-4dd6-9804-2c3158c12ad9",
   "metadata": {},
   "outputs": [
    {
     "name": "stdout",
     "output_type": "stream",
     "text": [
      "Looking in indexes: https://pypi.tuna.tsinghua.edu.cn/simple\n",
      "Requirement already satisfied: zhipuai in c:\\users\\86159\\anaconda3\\lib\\site-packages (2.1.5.20230904)\n",
      "Requirement already satisfied: cachetools>=4.2.2 in c:\\users\\86159\\anaconda3\\lib\\site-packages (from zhipuai) (4.2.2)\n",
      "Requirement already satisfied: httpx>=0.23.0 in c:\\users\\86159\\anaconda3\\lib\\site-packages (from zhipuai) (0.27.0)\n",
      "Requirement already satisfied: pydantic<3.0,>=1.9.0 in c:\\users\\86159\\anaconda3\\lib\\site-packages (from zhipuai) (1.10.12)\n",
      "Requirement already satisfied: pydantic-core>=2.14.6 in c:\\users\\86159\\anaconda3\\lib\\site-packages (from zhipuai) (2.27.0)\n",
      "Requirement already satisfied: pyjwt<2.9.0,>=2.8.0 in c:\\users\\86159\\anaconda3\\lib\\site-packages (from zhipuai) (2.8.0)\n",
      "Requirement already satisfied: anyio in c:\\users\\86159\\anaconda3\\lib\\site-packages (from httpx>=0.23.0->zhipuai) (4.2.0)\n",
      "Requirement already satisfied: certifi in c:\\users\\86159\\anaconda3\\lib\\site-packages (from httpx>=0.23.0->zhipuai) (2024.8.30)\n",
      "Requirement already satisfied: httpcore==1.* in c:\\users\\86159\\anaconda3\\lib\\site-packages (from httpx>=0.23.0->zhipuai) (1.0.2)\n",
      "Requirement already satisfied: idna in c:\\users\\86159\\anaconda3\\lib\\site-packages (from httpx>=0.23.0->zhipuai) (3.4)\n",
      "Requirement already satisfied: sniffio in c:\\users\\86159\\anaconda3\\lib\\site-packages (from httpx>=0.23.0->zhipuai) (1.3.0)\n",
      "Requirement already satisfied: h11<0.15,>=0.13 in c:\\users\\86159\\anaconda3\\lib\\site-packages (from httpcore==1.*->httpx>=0.23.0->zhipuai) (0.14.0)\n",
      "Requirement already satisfied: typing-extensions>=4.2.0 in c:\\users\\86159\\anaconda3\\lib\\site-packages (from pydantic<3.0,>=1.9.0->zhipuai) (4.9.0)\n",
      "Note: you may need to restart the kernel to use updated packages.\n"
     ]
    }
   ],
   "source": [
    "pip install zhipuai"
   ]
  },
  {
   "cell_type": "code",
   "execution_count": 1,
   "id": "50a5be99-5d3c-4ce4-9cb6-0b33cc7fb2c8",
   "metadata": {},
   "outputs": [
    {
     "name": "stdout",
     "output_type": "stream",
     "text": [
      "VideoObject(id='15331732070817632-9221303202154265945', model='cogvideox', video_result=None, task_status='PROCESSING', request_id='-9221303202154265946')\n"
     ]
    }
   ],
   "source": [
    "from zhipuai import ZhipuAI\n",
    "client = ZhipuAI(api_key=\"f5cecb45febdc1d674fcacfea5b0706a.IccR386a6xD1Ri1h\")\n",
    "\n",
    "response=client.videos.generations(\n",
    "   model=\"cogvideox\",\n",
    "   prompt=\"制作一段视频，一只拟人化的狐狸角色，形象优雅帅气，穿着休闲衬衫和领带，站在一个充满活力的繁华城市背景中，类似《疯狂动物城》的氛围。狐狸脸上带着狡黠的微笑，展现出一种调皮又充满魅力的神态，周围有其他拟人化的动物角色，背景细节丰富，灯光效果鲜明，色彩明亮。。\"\n",
    ")\n",
    "print(response)"
   ]
  },
  {
   "cell_type": "code",
   "execution_count": 5,
   "id": "7808d7b0-a200-4b94-b26b-96da4a40502c",
   "metadata": {},
   "outputs": [
    {
     "name": "stdout",
     "output_type": "stream",
     "text": [
      "VideoObject(id=None, model='cogvideox', video_result=[VideoResult(url='https://aigc-files.bigmodel.cn/api/cogvideo/5dc4d22c-a7d2-11ef-bd78-9ee7942420ea_0.mp4', cover_image_url='https://aigc-files.bigmodel.cn/api/cogvideo/5dc4d22c-a7d2-11ef-bd78-9ee7942420ea_cover_0.jpeg')], task_status='SUCCESS', request_id='-9221303202154265946')\n"
     ]
    }
   ],
   "source": [
    "from zhipuai import ZhipuAI\n",
    "client = ZhipuAI(api_key=\"f5cecb45febdc1d674fcacfea5b0706a.IccR386a6xD1Ri1h\")\n",
    "\n",
    "response = client.videos.retrieve_videos_result(\n",
    "    id=\"15331732070817632-9221303202154265945\"\n",
    ")\n",
    "print(response)"
   ]
  },
  {
   "cell_type": "code",
   "execution_count": 89,
   "id": "f589d8ec-bbe6-41ad-b4f7-2fe0a9a3e601",
   "metadata": {},
   "outputs": [
    {
     "name": "stdout",
     "output_type": "stream",
     "text": [
      "VideoObject(id='15331732070817632-9221302583678630062', model='cogvideox', video_result=None, task_status='PROCESSING', request_id='-9221302583678630063')\n"
     ]
    }
   ],
   "source": [
    "from zhipuai import ZhipuAI\n",
    "client = ZhipuAI(api_key=\"f5cecb45febdc1d674fcacfea5b0706a.IccR386a6xD1Ri1h\")\n",
    "response=client.videos.generations(\n",
    "   model=\"cogvideox\",\n",
    "   image_url=\"https://pic3.zhimg.com/v2-5523ed93593ee4c7fd97b972d0af92d3_r.jpg\",\n",
    "   prompt=\"让云有浮动效果，制造有风的氛围，让头发轻微飘动\"\n",
    ")\n",
    "print(response)"
   ]
  },
  {
   "cell_type": "code",
   "execution_count": 95,
   "id": "f9864b63-54eb-43f7-af40-26bb87e5175f",
   "metadata": {},
   "outputs": [
    {
     "name": "stdout",
     "output_type": "stream",
     "text": [
      "VideoObject(id=None, model='cogvideox', video_result=[VideoResult(url='https://aigc-files.bigmodel.cn/api/cogvideo/5bf061d2-a7d7-11ef-bea3-fa5f52131d8b_0.mp4', cover_image_url='https://aigc-files.bigmodel.cn/api/cogvideo/5bf061d2-a7d7-11ef-bea3-fa5f52131d8b_cover_0.jpeg')], task_status='SUCCESS', request_id='-9221302583678630063')\n"
     ]
    }
   ],
   "source": [
    "from zhipuai import ZhipuAI\n",
    "client = ZhipuAI(api_key=\"f5cecb45febdc1d674fcacfea5b0706a.IccR386a6xD1Ri1h\")\n",
    "\n",
    "response = client.videos.retrieve_videos_result(\n",
    "    id=\"15331732070817632-9221302583678630062\"\n",
    ")\n",
    "print(response)"
   ]
  },
  {
   "cell_type": "code",
   "execution_count": null,
   "id": "36341561-37a1-4e88-8bea-3e8d5ba362df",
   "metadata": {},
   "outputs": [],
   "source": []
  }
 ],
 "metadata": {
  "kernelspec": {
   "display_name": "Python 3 (ipykernel)",
   "language": "python",
   "name": "python3"
  },
  "language_info": {
   "codemirror_mode": {
    "name": "ipython",
    "version": 3
   },
   "file_extension": ".py",
   "mimetype": "text/x-python",
   "name": "python",
   "nbconvert_exporter": "python",
   "pygments_lexer": "ipython3",
   "version": "3.11.7"
  }
 },
 "nbformat": 4,
 "nbformat_minor": 5
}
